{
 "cells": [
  {
   "cell_type": "code",
   "execution_count": 1,
   "metadata": {},
   "outputs": [],
   "source": [
    "import numpy as np"
   ]
  },
  {
   "cell_type": "code",
   "execution_count": 4,
   "metadata": {},
   "outputs": [
    {
     "name": "stdout",
     "output_type": "stream",
     "text": [
      "0.5002291026120801\n",
      "The first factor is 1.5403215e-05\n",
      "The ln term is 30.592\n",
      "0.0004404915318028399\n"
     ]
    }
   ],
   "source": [
    "def dE_dx_in_air(KE,m_proj,z_proj,altitude):\n",
    "    \"\"\"\n",
    "    This is a speicalized energy loss function that determines\n",
    "    the energy loss of a charged projectile in air. It uses the\n",
    "    Bethe Bloch formula with shell and density correction terms.\n",
    "    The user enters the KE of the projectile in MeV, the mass of\n",
    "    the projectile in MeV, the magnitude of the charge of the\n",
    "    projectile in multiples of the elementary charge, and the\n",
    "    altitude of the projectile in meters. The altitude is needed\n",
    "    because this function calculates the density of air as a function\n",
    "    of the altitude\n",
    "    \"\"\"\n",
    "    N_a = 6.022E23 # mol^-1\n",
    "    r_e = 2.817E-13 # cm\n",
    "    m_e_c2 = 0.511 # MeV\n",
    "    Z_abs = 14.83\n",
    "    A_abs = 29.72 # g/mol\n",
    "    gamma = (KE + m_proj)/m_proj\n",
    "    beta = np.sqrt(1- 1/gamma**2)\n",
    "    eta = gamma*beta\n",
    "    s = m_e_c2 / m_proj\n",
    "    W_max = (2*m_e_c2*eta**2)/(1+2*s*np.sqrt(1+eta**2)+s**2) # MeV\n",
    "    I = 85.7 # eV\n",
    "   \n",
    "    # Calculate the density\n",
    "    rho_0 = 1.205E-3 # density at 1 atm and 20 Celsius\n",
    "    mass_of_one = (A_abs / N_a)/1000 # in kg\n",
    "    g = 9.8 # m/s^2\n",
    "    K = 1.38065E-23 # J/K\n",
    "    T = 293.15 # 20 Celsius in Kelvin\n",
    "    rho = rho_0 * np.exp(-1*mass_of_one*g*altitude / (K*T) )\n",
    "    first_factor = 2 * np.pi * N_a * r_e**2 * m_e_c2 * rho\n",
    "    first_factor = first_factor * (Z_abs*z_proj**2) / (A_abs * beta**2)\n",
    "    print(\"The first factor is {:.8g}\".format(first_factor))\n",
    "    \n",
    "    arg_of_ln = 2*m_e_c2*((gamma*beta)**2)*W_max/((1E-6*I)**2)\n",
    "    \n",
    "    print(\"The ln term is {:.5g}\".format(np.log(arg_of_ln)))\n",
    "   \n",
    "    # Shell correction for high energies\n",
    "    X_0 = 1.742\n",
    "    X_1 = 4.28\n",
    "    a = 0.1091\n",
    "    m = 3.40\n",
    "    X = np.log10(gamma*beta)\n",
    "    # Calculate the C_0 constant\n",
    "    N_e = N_a * rho * Z_abs / A_abs\n",
    "    nu_p = np.sqrt(80.617E6 * N_e)  # where e^2 / (pi * m_e)\n",
    "    h = 4.13567E-15 # eV s\n",
    "    C_0 = -1 * (2 * np.log(1/(h*nu_p))+1)\n",
    "   \n",
    "    if (X > X_1):\n",
    "        delta = 4.6052 + C_0\n",
    "    else:\n",
    "        if (X > X_0):\n",
    "            delta = 4.6052 * X + C_0 + a * (X_1 - X)**m\n",
    "        else:\n",
    "            delta = 0\n",
    "           \n",
    "    C = (0.422377 * eta**-2 + 0.0304043 * eta**-4 + 0.00038106 * eta**-6) * 1E-6 * I*I\n",
    "    C = C + (3.850190*eta**-2 - 0.1667989*eta**-4 + 0.00157955*eta**-6) * 1E-9 * I**3\n",
    "   \n",
    "    result = first_factor * ( np.log(arg_of_ln) - 2*beta**2 - delta- 2*C/Z_abs)\n",
    "    return result\n",
    "\n",
    "m_proj = 105.6 # MeV\n",
    "gamma_proj = 58\n",
    "# KE = gamma_proj*m_proj - m_proj\n",
    "KE = 2016.648345817\n",
    "z_proj = 1\n",
    "altitude = 15000\n",
    "\n",
    "energy_loss = dE_dx_in_air(KE, m_proj, z_proj, altitude)\n",
    "print(energy_loss)"
   ]
  }
 ],
 "metadata": {
  "kernelspec": {
   "display_name": "Python 3.10.5 64-bit",
   "language": "python",
   "name": "python3"
  },
  "language_info": {
   "codemirror_mode": {
    "name": "ipython",
    "version": 3
   },
   "file_extension": ".py",
   "mimetype": "text/x-python",
   "name": "python",
   "nbconvert_exporter": "python",
   "pygments_lexer": "ipython3",
   "version": "3.10.5"
  },
  "orig_nbformat": 4,
  "vscode": {
   "interpreter": {
    "hash": "e7370f93d1d0cde622a1f8e1c04877d8463912d04d973331ad4851f04de6915a"
   }
  }
 },
 "nbformat": 4,
 "nbformat_minor": 2
}
